{
 "cells": [
  {
   "cell_type": "code",
   "execution_count": 1,
   "metadata": {},
   "outputs": [
    {
     "name": "stderr",
     "output_type": "stream",
     "text": [
      "Using TensorFlow backend.\n"
     ]
    }
   ],
   "source": [
    "import tensorflow as tf\n",
    "import numpy as np\n",
    "import pandas as pd\n",
    "import matplotlib as plt\n",
    "\n",
    "from keras.models import Sequential\n",
    "from keras.layers import Dense\n",
    "from keras.layers import LSTM\n",
    "from math import sqrt\n"
   ]
  },
  {
   "cell_type": "code",
   "execution_count": 30,
   "metadata": {},
   "outputs": [],
   "source": [
    "\n",
    "\n",
    "\n",
    "dateparse = lambda x: pd.datetime.strptime(x, '%Y-%m-%d')\n",
    "data = pd.read_csv(\"C:/Users/Tsenguunn/Documents/Kaggle/^DJI.csv\", parse_dates=['Date'], date_parser=dateparse)\n",
    "data.set_index('Date', inplace=True)\n",
    "\n",
    "#data.reset_index(level=0, inplace=True)"
   ]
  },
  {
   "cell_type": "code",
   "execution_count": 38,
   "metadata": {},
   "outputs": [
    {
     "data": {
      "text/html": [
       "<div>\n",
       "<style scoped>\n",
       "    .dataframe tbody tr th:only-of-type {\n",
       "        vertical-align: middle;\n",
       "    }\n",
       "\n",
       "    .dataframe tbody tr th {\n",
       "        vertical-align: top;\n",
       "    }\n",
       "\n",
       "    .dataframe thead th {\n",
       "        text-align: right;\n",
       "    }\n",
       "</style>\n",
       "<table border=\"1\" class=\"dataframe\">\n",
       "  <thead>\n",
       "    <tr style=\"text-align: right;\">\n",
       "      <th></th>\n",
       "      <th>Open</th>\n",
       "      <th>High</th>\n",
       "      <th>Low</th>\n",
       "      <th>Close</th>\n",
       "      <th>Adj Close</th>\n",
       "      <th>Volume</th>\n",
       "    </tr>\n",
       "    <tr>\n",
       "      <th>Date</th>\n",
       "      <th></th>\n",
       "      <th></th>\n",
       "      <th></th>\n",
       "      <th></th>\n",
       "      <th></th>\n",
       "      <th></th>\n",
       "    </tr>\n",
       "  </thead>\n",
       "  <tbody>\n",
       "    <tr>\n",
       "      <td>2015-02-17</td>\n",
       "      <td>18019.800781</td>\n",
       "      <td>18052.009766</td>\n",
       "      <td>17951.410156</td>\n",
       "      <td>18047.580078</td>\n",
       "      <td>18047.580078</td>\n",
       "      <td>98760000</td>\n",
       "    </tr>\n",
       "    <tr>\n",
       "      <td>2015-02-18</td>\n",
       "      <td>18045.720703</td>\n",
       "      <td>18048.699219</td>\n",
       "      <td>17982.199219</td>\n",
       "      <td>18029.849609</td>\n",
       "      <td>18029.849609</td>\n",
       "      <td>75090000</td>\n",
       "    </tr>\n",
       "    <tr>\n",
       "      <td>2015-02-19</td>\n",
       "      <td>18028.669922</td>\n",
       "      <td>18028.669922</td>\n",
       "      <td>17924.599609</td>\n",
       "      <td>17985.769531</td>\n",
       "      <td>17985.769531</td>\n",
       "      <td>79130000</td>\n",
       "    </tr>\n",
       "    <tr>\n",
       "      <td>2015-02-20</td>\n",
       "      <td>17985.769531</td>\n",
       "      <td>18144.289063</td>\n",
       "      <td>17878.369141</td>\n",
       "      <td>18140.439453</td>\n",
       "      <td>18140.439453</td>\n",
       "      <td>111390000</td>\n",
       "    </tr>\n",
       "    <tr>\n",
       "      <td>2015-02-23</td>\n",
       "      <td>18140.759766</td>\n",
       "      <td>18141.210938</td>\n",
       "      <td>18054.839844</td>\n",
       "      <td>18116.839844</td>\n",
       "      <td>18116.839844</td>\n",
       "      <td>83670000</td>\n",
       "    </tr>\n",
       "    <tr>\n",
       "      <td>...</td>\n",
       "      <td>...</td>\n",
       "      <td>...</td>\n",
       "      <td>...</td>\n",
       "      <td>...</td>\n",
       "      <td>...</td>\n",
       "      <td>...</td>\n",
       "    </tr>\n",
       "    <tr>\n",
       "      <td>2020-02-10</td>\n",
       "      <td>28995.660156</td>\n",
       "      <td>29278.070313</td>\n",
       "      <td>28995.660156</td>\n",
       "      <td>29276.820313</td>\n",
       "      <td>29276.820313</td>\n",
       "      <td>250510000</td>\n",
       "    </tr>\n",
       "    <tr>\n",
       "      <td>2020-02-11</td>\n",
       "      <td>29390.710938</td>\n",
       "      <td>29415.390625</td>\n",
       "      <td>29210.470703</td>\n",
       "      <td>29276.339844</td>\n",
       "      <td>29276.339844</td>\n",
       "      <td>279540000</td>\n",
       "    </tr>\n",
       "    <tr>\n",
       "      <td>2020-02-12</td>\n",
       "      <td>29406.750000</td>\n",
       "      <td>29568.570313</td>\n",
       "      <td>29406.750000</td>\n",
       "      <td>29551.419922</td>\n",
       "      <td>29551.419922</td>\n",
       "      <td>309530000</td>\n",
       "    </tr>\n",
       "    <tr>\n",
       "      <td>2020-02-13</td>\n",
       "      <td>29436.029297</td>\n",
       "      <td>29535.400391</td>\n",
       "      <td>29345.929688</td>\n",
       "      <td>29423.310547</td>\n",
       "      <td>29423.310547</td>\n",
       "      <td>291150000</td>\n",
       "    </tr>\n",
       "    <tr>\n",
       "      <td>2020-02-14</td>\n",
       "      <td>29440.470703</td>\n",
       "      <td>29463.039063</td>\n",
       "      <td>29283.179688</td>\n",
       "      <td>29398.080078</td>\n",
       "      <td>29398.080078</td>\n",
       "      <td>231000000</td>\n",
       "    </tr>\n",
       "  </tbody>\n",
       "</table>\n",
       "<p>1259 rows × 6 columns</p>\n",
       "</div>"
      ],
      "text/plain": [
       "                    Open          High           Low         Close  \\\n",
       "Date                                                                 \n",
       "2015-02-17  18019.800781  18052.009766  17951.410156  18047.580078   \n",
       "2015-02-18  18045.720703  18048.699219  17982.199219  18029.849609   \n",
       "2015-02-19  18028.669922  18028.669922  17924.599609  17985.769531   \n",
       "2015-02-20  17985.769531  18144.289063  17878.369141  18140.439453   \n",
       "2015-02-23  18140.759766  18141.210938  18054.839844  18116.839844   \n",
       "...                  ...           ...           ...           ...   \n",
       "2020-02-10  28995.660156  29278.070313  28995.660156  29276.820313   \n",
       "2020-02-11  29390.710938  29415.390625  29210.470703  29276.339844   \n",
       "2020-02-12  29406.750000  29568.570313  29406.750000  29551.419922   \n",
       "2020-02-13  29436.029297  29535.400391  29345.929688  29423.310547   \n",
       "2020-02-14  29440.470703  29463.039063  29283.179688  29398.080078   \n",
       "\n",
       "               Adj Close     Volume  \n",
       "Date                                 \n",
       "2015-02-17  18047.580078   98760000  \n",
       "2015-02-18  18029.849609   75090000  \n",
       "2015-02-19  17985.769531   79130000  \n",
       "2015-02-20  18140.439453  111390000  \n",
       "2015-02-23  18116.839844   83670000  \n",
       "...                  ...        ...  \n",
       "2020-02-10  29276.820313  250510000  \n",
       "2020-02-11  29276.339844  279540000  \n",
       "2020-02-12  29551.419922  309530000  \n",
       "2020-02-13  29423.310547  291150000  \n",
       "2020-02-14  29398.080078  231000000  \n",
       "\n",
       "[1259 rows x 6 columns]"
      ]
     },
     "execution_count": 38,
     "metadata": {},
     "output_type": "execute_result"
    }
   ],
   "source": [
    "data\n"
   ]
  },
  {
   "cell_type": "code",
   "execution_count": 135,
   "metadata": {},
   "outputs": [],
   "source": [
    "data_len = data.shape[0]\n",
    "int(np.floor(data_len*0.25))\n",
    "\n",
    "train_set = data[:'2019-02-14'].iloc[:,3:4].values\n",
    "\n",
    "test_set = data['2019-02-15':].iloc[:,3:4].values\n",
    "\n",
    "from sklearn.preprocessing import MinMaxScaler\n",
    "from sklearn.metrics import mean_squared_error\n",
    "\n",
    "%matplotlib inline\n",
    "import matplotlib.pyplot as plt\n",
    "\n",
    "# Scaling the training set\n",
    "sc = MinMaxScaler(feature_range=(0,1))\n",
    "train_set_sc = sc.fit_transform(train_set)\n",
    "\n",
    "#plt.plot(train_set_sc)\n",
    "\n",
    "x_train = []\n",
    "y_train = []\n",
    "\n",
    "for i in range(60, 1007):\n",
    "    x_train.append(train_set_sc[i-60:i,0])\n",
    "    y_train.append(train_set_sc[i,0])\n",
    "    \n",
    "x_train, y_train = np.array(x_train), np.array(y_train)\n",
    "\n",
    "x_train = np.reshape( x_train, ( x_train.shape[0], x_train.shape[1], 1 ) )\n",
    "\n"
   ]
  },
  {
   "cell_type": "code",
   "execution_count": 121,
   "metadata": {},
   "outputs": [
    {
     "data": {
      "text/plain": [
       "1007"
      ]
     },
     "execution_count": 121,
     "metadata": {},
     "output_type": "execute_result"
    }
   ],
   "source": [
    "len(train_set_sc)"
   ]
  },
  {
   "cell_type": "code",
   "execution_count": 136,
   "metadata": {},
   "outputs": [],
   "source": [
    "def return_rmse(test,pred):\n",
    "    rmse = sqrt(mean_squared_error(test, pred))\n",
    "    print(\"The root mean squared error is {}.\".format(rmse))\n",
    "    \n",
    "def plot_pred(test,pred):\n",
    "    plt.plot(test, color='red',label='Realized DJIA Index')\n",
    "    plt.plot(pred, color='blue',label='Predicted DJIA Index')\n",
    "    plt.title('DJIA Index Prediction')\n",
    "    plt.xlabel('Date')\n",
    "    plt.ylabel('DJIA Index')\n",
    "    plt.legend()\n",
    "    plt.show()\n",
    "    \n",
    "from keras.layers import Flatten"
   ]
  },
  {
   "cell_type": "code",
   "execution_count": 162,
   "metadata": {},
   "outputs": [
    {
     "name": "stdout",
     "output_type": "stream",
     "text": [
      "Epoch 1/5\n",
      "947/947 [==============================] - 26s 28ms/step - loss: 0.0950\n",
      "Epoch 2/5\n",
      "947/947 [==============================] - 11s 11ms/step - loss: 0.0628\n",
      "Epoch 3/5\n",
      "947/947 [==============================] - 9s 10ms/step - loss: 0.0537\n",
      "Epoch 4/5\n",
      "947/947 [==============================] - 9s 9ms/step - loss: 0.0620\n",
      "Epoch 5/5\n",
      "947/947 [==============================] - 11s 11ms/step - loss: 0.0502\n"
     ]
    },
    {
     "data": {
      "text/plain": [
       "<keras.callbacks.History at 0x2f0fb672bc8>"
      ]
     },
     "execution_count": 162,
     "metadata": {},
     "output_type": "execute_result"
    }
   ],
   "source": [
    "\n",
    "regressor = Sequential()\n",
    "\n",
    "regressor.add( LSTM(units=50, return_sequences=True, input_shape=( x_train.shape[1],1 ), dropout=0.2 ) ) \n",
    "#regressor.add(Dropout(0.2))\n",
    "regressor.add( LSTM(units=50, return_sequences=True, dropout=0.4) )\n",
    "#regressor.add(Dropout(0.2))\n",
    "regressor.add( LSTM(units=50, return_sequences=True, dropout=0.4) )\n",
    "#regressor.add(Dropout(0.2))\n",
    "regressor.add( LSTM(units=50, return_sequences=True, dropout=0.4) )\n",
    "#regressor.add(Dropout(0.2))\n",
    "#regressor.add( LSTM(units=50, return_sequences=True, dropout=0.2) )\n",
    "#regressor.add( LSTM(units=50, return_sequences=True, dropout=0.2) )\n",
    "\n",
    "\n",
    "regressor.add(Flatten())\n",
    "regressor.add(Dense(units=1))\n",
    "regressor.compile(optimizer='rmsprop', loss=\"mean_squared_error\")\n",
    "regressor.fit(x_train, y_train, epochs=5, batch_size=32)"
   ]
  },
  {
   "cell_type": "code",
   "execution_count": 157,
   "metadata": {},
   "outputs": [
    {
     "data": {
      "text/plain": [
       "(312, 1)"
      ]
     },
     "execution_count": 157,
     "metadata": {},
     "output_type": "execute_result"
    }
   ],
   "source": [
    "dt = data['Close']\n",
    "inp = dt[ len(dt)-len(test_set)-60: ].values\n",
    "inp = inp.reshape(-1,1)\n",
    "inp = sc.transform(inp)\n",
    "inp.shape"
   ]
  },
  {
   "cell_type": "code",
   "execution_count": 139,
   "metadata": {},
   "outputs": [
    {
     "data": {
      "text/plain": [
       "Date\n",
       "2018-11-16    25413.220703\n",
       "2018-11-19    25017.439453\n",
       "2018-11-20    24465.640625\n",
       "2018-11-21    24464.689453\n",
       "2018-11-23    24285.949219\n",
       "                  ...     \n",
       "2020-02-10    29276.820313\n",
       "2020-02-11    29276.339844\n",
       "2020-02-12    29551.419922\n",
       "2020-02-13    29423.310547\n",
       "2020-02-14    29398.080078\n",
       "Name: Close, Length: 312, dtype: float64"
      ]
     },
     "execution_count": 139,
     "metadata": {},
     "output_type": "execute_result"
    }
   ],
   "source": [
    "dt[ len(dt)-len(test_set)-60: ]"
   ]
  },
  {
   "cell_type": "code",
   "execution_count": 152,
   "metadata": {},
   "outputs": [
    {
     "data": {
      "text/plain": [
       "312"
      ]
     },
     "execution_count": 152,
     "metadata": {},
     "output_type": "execute_result"
    }
   ],
   "source": [
    "len(inp)"
   ]
  },
  {
   "cell_type": "code",
   "execution_count": 163,
   "metadata": {},
   "outputs": [],
   "source": [
    "x_test = []\n",
    "for i in range(60,312):\n",
    "    x_test.append(inp[i-60:i,0])\n",
    "    \n",
    "x_test = np.array(x_test)\n",
    "x_test = np.reshape(x_test, (x_test.shape[0],x_test.shape[1],1))\n",
    "\n",
    "pred_djia = regressor.predict(x_test)\n",
    "pred_djia = sc.inverse_transform(pred_djia)"
   ]
  },
  {
   "cell_type": "code",
   "execution_count": 164,
   "metadata": {},
   "outputs": [
    {
     "data": {
      "image/png": "[encoded data removed]",
      "text/plain": [
       "<Figure size 432x288 with 1 Axes>"
      ]
     },
     "metadata": {
      "needs_background": "light"
     },
     "output_type": "display_data"
    },
    {
     "name": "stdout",
     "output_type": "stream",
     "text": [
      "The root mean squared error is 3274.8431167852777.\n"
     ]
    }
   ],
   "source": [
    "plot_pred(test_set,pred_djia)\n",
    "return_rmse(test_set,pred_djia)\n"
   ]
  },
  {
   "cell_type": "code",
   "execution_count": 168,
   "metadata": {},
   "outputs": [
    {
     "data": {
      "text/plain": [
       "array([[25883.25    ],\n",
       "       [25891.320313],\n",
       "       [25954.439453],\n",
       "       [25850.630859],\n",
       "       [26031.810547],\n",
       "       [26091.949219],\n",
       "       [26057.980469],\n",
       "       [25985.160156],\n",
       "       [25916.      ],\n",
       "       [26026.320313],\n",
       "       [25819.650391],\n",
       "       [25806.630859],\n",
       "       [25673.460938],\n",
       "       [25473.230469],\n",
       "       [25450.240234],\n",
       "       [25650.880859],\n",
       "       [25554.660156],\n",
       "       [25702.890625],\n",
       "       [25709.939453],\n",
       "       [25848.869141],\n",
       "       [25914.099609],\n",
       "       [25887.380859],\n",
       "       [25745.669922],\n",
       "       [25962.509766],\n",
       "       [25502.320313],\n",
       "       [25516.830078],\n",
       "       [25657.730469],\n",
       "       [25625.589844],\n",
       "       [25717.460938],\n",
       "       [25928.679688],\n",
       "       [26258.419922],\n",
       "       [26179.130859],\n",
       "       [26218.130859],\n",
       "       [26384.630859],\n",
       "       [26424.990234],\n",
       "       [26341.019531],\n",
       "       [26150.580078],\n",
       "       [26157.160156],\n",
       "       [26143.050781],\n",
       "       [26412.300781],\n",
       "       [26384.769531],\n",
       "       [26452.660156],\n",
       "       [26449.539063],\n",
       "       [26559.539063],\n",
       "       [26511.050781],\n",
       "       [26656.390625],\n",
       "       [26597.050781],\n",
       "       [26462.080078],\n",
       "       [26543.330078],\n",
       "       [26554.390625],\n",
       "       [26592.910156],\n",
       "       [26430.140625],\n",
       "       [26307.789063],\n",
       "       [26504.949219],\n",
       "       [26438.480469],\n",
       "       [25965.089844],\n",
       "       [25967.330078],\n",
       "       [25828.359375],\n",
       "       [25942.369141],\n",
       "       [25324.990234],\n",
       "       [25532.050781],\n",
       "       [25648.019531],\n",
       "       [25862.679688],\n",
       "       [25764.      ],\n",
       "       [25679.900391],\n",
       "       [25877.330078],\n",
       "       [25776.609375],\n",
       "       [25490.470703],\n",
       "       [25585.689453],\n",
       "       [25347.769531],\n",
       "       [25126.410156],\n",
       "       [25169.880859],\n",
       "       [24815.039063],\n",
       "       [24819.779297],\n",
       "       [25332.179688],\n",
       "       [25539.570313],\n",
       "       [25720.660156],\n",
       "       [25983.939453],\n",
       "       [26062.679688],\n",
       "       [26048.509766],\n",
       "       [26004.830078],\n",
       "       [26106.769531],\n",
       "       [26089.609375],\n",
       "       [26112.529297],\n",
       "       [26465.539063],\n",
       "       [26504.      ],\n",
       "       [26753.169922],\n",
       "       [26719.130859],\n",
       "       [26727.539063],\n",
       "       [26548.220703],\n",
       "       [26536.820313],\n",
       "       [26526.580078],\n",
       "       [26599.960938],\n",
       "       [26717.429688],\n",
       "       [26786.679688],\n",
       "       [26966.      ],\n",
       "       [26922.119141],\n",
       "       [26806.140625],\n",
       "       [26783.490234],\n",
       "       [26860.199219],\n",
       "       [27088.080078],\n",
       "       [27332.029297],\n",
       "       [27359.160156],\n",
       "       [27335.630859],\n",
       "       [27219.849609],\n",
       "       [27222.970703],\n",
       "       [27154.199219],\n",
       "       [27171.900391],\n",
       "       [27349.189453],\n",
       "       [27269.970703],\n",
       "       [27140.980469],\n",
       "       [27192.449219],\n",
       "       [27221.349609],\n",
       "       [27198.019531],\n",
       "       [26864.269531],\n",
       "       [26583.419922],\n",
       "       [26485.009766],\n",
       "       [25717.740234],\n",
       "       [26029.519531],\n",
       "       [26007.070313],\n",
       "       [26378.189453],\n",
       "       [26287.439453],\n",
       "       [25896.439453],\n",
       "       [26279.910156],\n",
       "       [25479.419922],\n",
       "       [25579.390625],\n",
       "       [25886.009766],\n",
       "       [26135.789063],\n",
       "       [25962.439453],\n",
       "       [26202.730469],\n",
       "       [26252.240234],\n",
       "       [25628.900391],\n",
       "       [25898.830078],\n",
       "       [25777.900391],\n",
       "       [26036.099609],\n",
       "       [26362.25    ],\n",
       "       [26403.279297],\n",
       "       [26118.019531],\n",
       "       [26355.470703],\n",
       "       [26728.150391],\n",
       "       [26797.460938],\n",
       "       [26835.509766],\n",
       "       [26909.429688],\n",
       "       [27137.039063],\n",
       "       [27182.449219],\n",
       "       [27219.519531],\n",
       "       [27076.820313],\n",
       "       [27110.800781],\n",
       "       [27147.080078],\n",
       "       [27094.789063],\n",
       "       [26935.070313],\n",
       "       [26949.990234],\n",
       "       [26807.769531],\n",
       "       [26970.710938],\n",
       "       [26891.119141],\n",
       "       [26820.25    ],\n",
       "       [26916.830078],\n",
       "       [26573.039063],\n",
       "       [26078.619141],\n",
       "       [26201.039063],\n",
       "       [26573.720703],\n",
       "       [26478.019531],\n",
       "       [26164.039063],\n",
       "       [26346.009766],\n",
       "       [26496.669922],\n",
       "       [26816.589844],\n",
       "       [26787.359375],\n",
       "       [27024.800781],\n",
       "       [27001.980469],\n",
       "       [27025.880859],\n",
       "       [26770.199219],\n",
       "       [26827.640625],\n",
       "       [26788.099609],\n",
       "       [26833.949219],\n",
       "       [26805.529297],\n",
       "       [26958.060547],\n",
       "       [27090.720703],\n",
       "       [27071.460938],\n",
       "       [27186.689453],\n",
       "       [27046.230469],\n",
       "       [27347.359375],\n",
       "       [27462.109375],\n",
       "       [27492.630859],\n",
       "       [27492.560547],\n",
       "       [27674.800781],\n",
       "       [27681.240234],\n",
       "       [27691.490234],\n",
       "       [27691.490234],\n",
       "       [27783.589844],\n",
       "       [27781.960938],\n",
       "       [28004.890625],\n",
       "       [28036.220703],\n",
       "       [27934.019531],\n",
       "       [27821.089844],\n",
       "       [27766.289063],\n",
       "       [27875.619141],\n",
       "       [28066.470703],\n",
       "       [28121.679688],\n",
       "       [28164.      ],\n",
       "       [28051.410156],\n",
       "       [27783.039063],\n",
       "       [27502.810547],\n",
       "       [27649.779297],\n",
       "       [27677.789063],\n",
       "       [28015.060547],\n",
       "       [27909.599609],\n",
       "       [27881.720703],\n",
       "       [27911.300781],\n",
       "       [28132.050781],\n",
       "       [28135.380859],\n",
       "       [28235.890625],\n",
       "       [28267.160156],\n",
       "       [28239.279297],\n",
       "       [28376.960938],\n",
       "       [28455.089844],\n",
       "       [28551.529297],\n",
       "       [28515.449219],\n",
       "       [28621.390625],\n",
       "       [28645.259766],\n",
       "       [28462.140625],\n",
       "       [28538.439453],\n",
       "       [28868.800781],\n",
       "       [28634.880859],\n",
       "       [28703.380859],\n",
       "       [28583.679688],\n",
       "       [28745.089844],\n",
       "       [28956.900391],\n",
       "       [28823.769531],\n",
       "       [28907.050781],\n",
       "       [28939.669922],\n",
       "       [29030.220703],\n",
       "       [29297.640625],\n",
       "       [29348.099609],\n",
       "       [29196.039063],\n",
       "       [29186.269531],\n",
       "       [29160.089844],\n",
       "       [28989.730469],\n",
       "       [28535.800781],\n",
       "       [28722.849609],\n",
       "       [28734.449219],\n",
       "       [28859.439453],\n",
       "       [28256.029297],\n",
       "       [28399.810547],\n",
       "       [28807.630859],\n",
       "       [29290.849609],\n",
       "       [29379.769531],\n",
       "       [29102.509766],\n",
       "       [29276.820313],\n",
       "       [29276.339844],\n",
       "       [29551.419922],\n",
       "       [29423.310547],\n",
       "       [29398.080078]])"
      ]
     },
     "execution_count": 168,
     "metadata": {},
     "output_type": "execute_result"
    }
   ],
   "source": [
    "test_set"
   ]
  },
  {
   "cell_type": "code",
   "execution_count": 169,
   "metadata": {},
   "outputs": [
    {
     "data": {
      "text/plain": [
       "array([[22419.568],\n",
       "       [22428.188],\n",
       "       [22440.053],\n",
       "       [22456.309],\n",
       "       [22474.012],\n",
       "       [22494.285],\n",
       "       [22514.02 ],\n",
       "       [22534.41 ],\n",
       "       [22552.309],\n",
       "       [22571.303],\n",
       "       [22590.031],\n",
       "       [22607.896],\n",
       "       [22631.21 ],\n",
       "       [22655.826],\n",
       "       [22684.305],\n",
       "       [22712.783],\n",
       "       [22741.186],\n",
       "       [22767.848],\n",
       "       [22792.816],\n",
       "       [22819.1  ],\n",
       "       [22846.754],\n",
       "       [22872.4  ],\n",
       "       [22898.576],\n",
       "       [22926.158],\n",
       "       [22955.248],\n",
       "       [22987.59 ],\n",
       "       [23013.24 ],\n",
       "       [23036.602],\n",
       "       [23059.576],\n",
       "       [23080.25 ],\n",
       "       [23100.037],\n",
       "       [23123.088],\n",
       "       [23141.443],\n",
       "       [23158.799],\n",
       "       [23174.336],\n",
       "       [23189.094],\n",
       "       [23203.096],\n",
       "       [23217.297],\n",
       "       [23232.285],\n",
       "       [23246.71 ],\n",
       "       [23260.64 ],\n",
       "       [23273.879],\n",
       "       [23285.375],\n",
       "       [23298.936],\n",
       "       [23311.975],\n",
       "       [23325.664],\n",
       "       [23338.88 ],\n",
       "       [23354.002],\n",
       "       [23369.633],\n",
       "       [23383.395],\n",
       "       [23397.76 ],\n",
       "       [23412.12 ],\n",
       "       [23425.695],\n",
       "       [23438.365],\n",
       "       [23451.139],\n",
       "       [23465.158],\n",
       "       [23479.541],\n",
       "       [23494.283],\n",
       "       [23506.73 ],\n",
       "       [23518.252],\n",
       "       [23530.105],\n",
       "       [23538.918],\n",
       "       [23547.082],\n",
       "       [23554.113],\n",
       "       [23560.855],\n",
       "       [23565.436],\n",
       "       [23568.422],\n",
       "       [23570.287],\n",
       "       [23571.166],\n",
       "       [23570.979],\n",
       "       [23568.656],\n",
       "       [23566.22 ],\n",
       "       [23562.723],\n",
       "       [23558.941],\n",
       "       [23555.42 ],\n",
       "       [23551.191],\n",
       "       [23544.844],\n",
       "       [23538.092],\n",
       "       [23529.531],\n",
       "       [23520.053],\n",
       "       [23508.945],\n",
       "       [23496.828],\n",
       "       [23484.518],\n",
       "       [23473.045],\n",
       "       [23460.592],\n",
       "       [23451.652],\n",
       "       [23443.82 ],\n",
       "       [23436.652],\n",
       "       [23431.363],\n",
       "       [23427.303],\n",
       "       [23423.715],\n",
       "       [23419.771],\n",
       "       [23417.783],\n",
       "       [23417.04 ],\n",
       "       [23416.738],\n",
       "       [23417.64 ],\n",
       "       [23420.498],\n",
       "       [23425.965],\n",
       "       [23432.824],\n",
       "       [23441.078],\n",
       "       [23448.844],\n",
       "       [23457.803],\n",
       "       [23467.4  ],\n",
       "       [23478.098],\n",
       "       [23489.33 ],\n",
       "       [23502.148],\n",
       "       [23515.459],\n",
       "       [23530.445],\n",
       "       [23547.49 ],\n",
       "       [23565.15 ],\n",
       "       [23583.549],\n",
       "       [23602.191],\n",
       "       [23621.986],\n",
       "       [23642.492],\n",
       "       [23661.545],\n",
       "       [23680.408],\n",
       "       [23701.393],\n",
       "       [23721.709],\n",
       "       [23742.129],\n",
       "       [23761.154],\n",
       "       [23783.096],\n",
       "       [23803.008],\n",
       "       [23821.168],\n",
       "       [23836.633],\n",
       "       [23850.898],\n",
       "       [23863.584],\n",
       "       [23872.729],\n",
       "       [23879.885],\n",
       "       [23886.135],\n",
       "       [23889.348],\n",
       "       [23891.777],\n",
       "       [23893.68 ],\n",
       "       [23893.855],\n",
       "       [23895.002],\n",
       "       [23895.166],\n",
       "       [23891.205],\n",
       "       [23884.865],\n",
       "       [23876.438],\n",
       "       [23865.648],\n",
       "       [23853.99 ],\n",
       "       [23842.402],\n",
       "       [23831.357],\n",
       "       [23820.172],\n",
       "       [23809.809],\n",
       "       [23800.209],\n",
       "       [23789.61 ],\n",
       "       [23780.166],\n",
       "       [23770.797],\n",
       "       [23763.314],\n",
       "       [23757.438],\n",
       "       [23754.271],\n",
       "       [23752.79 ],\n",
       "       [23753.057],\n",
       "       [23754.564],\n",
       "       [23756.893],\n",
       "       [23760.11 ],\n",
       "       [23763.307],\n",
       "       [23767.697],\n",
       "       [23773.559],\n",
       "       [23780.201],\n",
       "       [23786.805],\n",
       "       [23792.156],\n",
       "       [23795.87 ],\n",
       "       [23799.049],\n",
       "       [23801.97 ],\n",
       "       [23805.217],\n",
       "       [23808.174],\n",
       "       [23811.387],\n",
       "       [23814.348],\n",
       "       [23815.975],\n",
       "       [23817.688],\n",
       "       [23819.824],\n",
       "       [23821.37 ],\n",
       "       [23822.443],\n",
       "       [23823.316],\n",
       "       [23825.822],\n",
       "       [23829.629],\n",
       "       [23833.69 ],\n",
       "       [23842.191],\n",
       "       [23848.803],\n",
       "       [23855.46 ],\n",
       "       [23859.832],\n",
       "       [23864.777],\n",
       "       [23872.348],\n",
       "       [23878.098],\n",
       "       [23889.318],\n",
       "       [23900.969],\n",
       "       [23911.83 ],\n",
       "       [23922.123],\n",
       "       [23934.244],\n",
       "       [23945.602],\n",
       "       [23957.271],\n",
       "       [23973.512],\n",
       "       [23989.146],\n",
       "       [24006.584],\n",
       "       [24023.51 ],\n",
       "       [24039.363],\n",
       "       [24055.812],\n",
       "       [24074.95 ],\n",
       "       [24093.69 ],\n",
       "       [24111.102],\n",
       "       [24128.867],\n",
       "       [24147.04 ],\n",
       "       [24165.219],\n",
       "       [24182.252],\n",
       "       [24199.08 ],\n",
       "       [24215.656],\n",
       "       [24233.115],\n",
       "       [24250.48 ],\n",
       "       [24267.725],\n",
       "       [24285.275],\n",
       "       [24303.725],\n",
       "       [24321.965],\n",
       "       [24340.867],\n",
       "       [24358.42 ],\n",
       "       [24375.992],\n",
       "       [24393.566],\n",
       "       [24410.18 ],\n",
       "       [24428.57 ],\n",
       "       [24449.877],\n",
       "       [24470.578],\n",
       "       [24489.246],\n",
       "       [24508.842],\n",
       "       [24530.934],\n",
       "       [24552.682],\n",
       "       [24574.195],\n",
       "       [24594.258],\n",
       "       [24614.852],\n",
       "       [24634.262],\n",
       "       [24654.043],\n",
       "       [24673.91 ],\n",
       "       [24695.602],\n",
       "       [24717.26 ],\n",
       "       [24739.49 ],\n",
       "       [24761.871],\n",
       "       [24784.996],\n",
       "       [24807.844],\n",
       "       [24830.535],\n",
       "       [24853.898],\n",
       "       [24876.99 ],\n",
       "       [24901.223],\n",
       "       [24923.729],\n",
       "       [24945.426],\n",
       "       [24966.656],\n",
       "       [24987.375],\n",
       "       [25006.234],\n",
       "       [25024.197],\n",
       "       [25041.322],\n",
       "       [25057.887],\n",
       "       [25073.504],\n",
       "       [25088.97 ],\n",
       "       [25103.08 ]], dtype=float32)"
      ]
     },
     "execution_count": 169,
     "metadata": {},
     "output_type": "execute_result"
    }
   ],
   "source": [
    "pred_djia"
   ]
  },
  {
   "cell_type": "code",
   "execution_count": 165,
   "metadata": {
    "scrolled": true
   },
   "outputs": [
    {
     "data": {
      "image/png": "[encoded data removed]",
      "text/plain": [
       "<Figure size 432x288 with 1 Axes>"
      ]
     },
     "metadata": {
      "needs_background": "light"
     },
     "output_type": "display_data"
    }
   ],
   "source": [
    "trnd_djia = regressor.predict(x_train)\n",
    "trnd_djia = sc.inverse_transform(trnd_djia)\n",
    "y_tr_sc = sc.inverse_transform(y_train.reshape(-1,1))\n",
    "plot_pred( y_tr_sc, trnd_djia )"
   ]
  },
  {
   "cell_type": "code",
   "execution_count": 175,
   "metadata": {},
   "outputs": [],
   "source": [
    "from keras.layers import GRU\n",
    "from keras.optimizers import SGD"
   ]
  },
  {
   "cell_type": "code",
   "execution_count": 176,
   "metadata": {},
   "outputs": [
    {
     "name": "stdout",
     "output_type": "stream",
     "text": [
      "Epoch 1/5\n",
      "947/947 [==============================] - 17s 18ms/step - loss: 0.1433\n",
      "Epoch 2/5\n",
      "947/947 [==============================] - 4s 5ms/step - loss: 0.1024\n",
      "Epoch 3/5\n",
      "947/947 [==============================] - 5s 6ms/step - loss: 0.0769\n",
      "Epoch 4/5\n",
      "947/947 [==============================] - 4s 5ms/step - loss: 0.0545\n",
      "Epoch 5/5\n",
      "947/947 [==============================] - 4s 4ms/step - loss: 0.0477\n"
     ]
    },
    {
     "data": {
      "text/plain": [
       "<keras.callbacks.History at 0x2f145eed988>"
      ]
     },
     "execution_count": 176,
     "metadata": {},
     "output_type": "execute_result"
    }
   ],
   "source": [
    "\n",
    "regressorGRU = Sequential()\n",
    "regressorGRU.add( GRU( units=50, return_sequences=True, input_shape=(x_train.shape[1],1), activation='tanh', dropout=0.2 ) )\n",
    "regressorGRU.add( GRU( units=50, return_sequences=True, input_shape=(x_train.shape[1],1), activation='tanh', dropout=0.2 ) )\n",
    "regressorGRU.add( GRU( units=50, return_sequences=True, input_shape=(x_train.shape[1],1), activation='tanh', dropout=0.2 ) )\n",
    "\n",
    "regressorGRU.add( GRU(units=50, activation='tanh', dropout=0.2 ) )\n",
    "\n",
    "#regressorGRU.add(Flatten())\n",
    "regressorGRU.add(Dense(units=1))\n",
    "\n",
    "regressorGRU.compile(optimizer=SGD(lr=0.01, decay=1e-7, momentum=0.9, nesterov=False),loss='mean_squared_error')\n",
    "\n",
    "regressorGRU.fit(x_train,y_train,epochs=5,batch_size=150)\n"
   ]
  },
  {
   "cell_type": "code",
   "execution_count": 179,
   "metadata": {},
   "outputs": [],
   "source": [
    "pred_djia_gru = regressorGRU.predict(x_test)\n",
    "pred_djia_gru = sc.inverse_transform(pred_djia_gru)"
   ]
  },
  {
   "cell_type": "code",
   "execution_count": 180,
   "metadata": {},
   "outputs": [
    {
     "data": {
      "image/png": "[encoded data removed]",
      "text/plain": [
       "<Figure size 432x288 with 1 Axes>"
      ]
     },
     "metadata": {
      "needs_background": "light"
     },
     "output_type": "display_data"
    }
   ],
   "source": [
    "plot_pred(test_set,pred_djia_gru)"
   ]
  },
  {
   "cell_type": "code",
   "execution_count": 181,
   "metadata": {},
   "outputs": [
    {
     "data": {
      "image/png": "[encoded data removed]",
      "text/plain": [
       "<Figure size 432x288 with 1 Axes>"
      ]
     },
     "metadata": {
      "needs_background": "light"
     },
     "output_type": "display_data"
    }
   ],
   "source": [
    "trnd_djia_gru = regressorGRU.predict(x_train)\n",
    "trnd_djia_gru = sc.inverse_transform(trnd_djia_gru)\n",
    "y_tr_sc = sc.inverse_transform(y_train.reshape(-1,1))\n",
    "plot_pred( y_tr_sc, trnd_djia_gru )"
   ]
  },
  {
   "cell_type": "code",
   "execution_count": 286,
   "metadata": {},
   "outputs": [],
   "source": [
    "import statsmodels.api as sm\n",
    "x_train_cyc, x_train_tre = sm.tsa.filters.hpfilter(train_set,1600)\n",
    "\n",
    "\n",
    "from sklearn.preprocessing import StandardScaler\n",
    "\n",
    "x_train_tre = train_set"
   ]
  },
  {
   "cell_type": "code",
   "execution_count": 287,
   "metadata": {},
   "outputs": [
    {
     "data": {
      "text/plain": [
       "[<matplotlib.lines.Line2D at 0x2f23539f988>]"
      ]
     },
     "execution_count": 287,
     "metadata": {},
     "output_type": "execute_result"
    },
    {
     "data": {
      "image/png": "[encoded data removed]",
      "text/plain": [
       "<Figure size 432x288 with 1 Axes>"
      ]
     },
     "metadata": {
      "needs_background": "light"
     },
     "output_type": "display_data"
    }
   ],
   "source": [
    "plt.plot(x_train_tre)"
   ]
  },
  {
   "cell_type": "code",
   "execution_count": 188,
   "metadata": {},
   "outputs": [
    {
     "data": {
      "text/plain": [
       "[<matplotlib.lines.Line2D at 0x2f17893bbc8>]"
      ]
     },
     "execution_count": 188,
     "metadata": {},
     "output_type": "execute_result"
    },
    {
     "data": {
      "image/png": "[encoded data removed]",
      "text/plain": [
       "<Figure size 432x288 with 1 Axes>"
      ]
     },
     "metadata": {
      "needs_background": "light"
     },
     "output_type": "display_data"
    }
   ],
   "source": [
    "plt.plot(x_train_cyc)"
   ]
  },
  {
   "cell_type": "code",
   "execution_count": 321,
   "metadata": {},
   "outputs": [
    {
     "data": {
      "text/plain": [
       "(1007,)"
      ]
     },
     "execution_count": 321,
     "metadata": {},
     "output_type": "execute_result"
    },
    {
     "data": {
      "image/png": "[encoded data removed]",
      "text/plain": [
       "<Figure size 432x288 with 1 Axes>"
      ]
     },
     "metadata": {
      "needs_background": "light"
     },
     "output_type": "display_data"
    }
   ],
   "source": [
    "len(x_train_tre)\n",
    "np.ones([len(x_train_tre),1])\n",
    "x_tre_mat = np.concatenate( ( np.ones([len(x_train_tre),1]), np.arange(len(x_train_tre)).reshape(-1,1) ), axis=1 )\n",
    "time_ols = ( np.linalg.inv( x_tre_mat.transpose().dot(x_tre_mat) ) ).dot( x_tre_mat.transpose().dot(x_train_tre) )\n",
    "#np.arange(len(x_train_tre))\n",
    "\n",
    "time_trend = time_ols[0]+np.arange(len(x_train_tre))*time_ols[1]\n",
    "\n",
    "#plt.plot(time_trend, color='red',label='Time Triend')\n",
    "#plt.plot(x_train_tre, color='blue',label='DJIA Index')\n",
    "\n",
    "x_train_tre_tt = np.subtract( x_train_tre, time_trend.reshape(-1,1) )\n",
    "\n",
    "x_train_tre_tt = x_train_tre_tt.reshape(-1,1)\n",
    "plt.plot(x_train_tre_tt)\n",
    "#plt.plot(time_trend)\n",
    "x_train_tre.shape\n",
    "time_trend.shape"
   ]
  },
  {
   "cell_type": "code",
   "execution_count": 289,
   "metadata": {},
   "outputs": [],
   "source": [
    "# Scaling the training set\n",
    "#sc_tre = MinMaxScaler(feature_range=(0,1))\n",
    "sc_tre = StandardScaler()\n",
    "\n",
    "x_train_tre = x_train_tre.reshape(-1, 1)\n",
    "\n",
    "#np.ones(len(x_train_tre),1)\n",
    "\n",
    "#x_train_tre_tt = x_train_tre-time_trend\n",
    "\n",
    "train_set_tre_sc = sc_tre.fit_transform( x_train_tre_tt.reshape(-1,1) )\n",
    "\n",
    "#plt.plot(train_set_sc)\n",
    "\n",
    "x_train_trend = []\n",
    "y_train_trend = []\n",
    "\n",
    "for i in range(60, 1007):\n",
    "    x_train_trend.append(train_set_tre_sc[i-60:i,0])\n",
    "    y_train_trend.append(train_set_tre_sc[i,0])\n",
    "    \n",
    "x_train_trend, y_train_trend = np.array(x_train_trend), np.array(y_train_trend)\n",
    "\n",
    "x_train_trend = np.reshape( x_train_trend, ( x_train_trend.shape[0], x_train_trend.shape[1], 1 ) )\n"
   ]
  },
  {
   "cell_type": "code",
   "execution_count": 290,
   "metadata": {},
   "outputs": [
    {
     "name": "stdout",
     "output_type": "stream",
     "text": [
      "Epoch 1/5\n",
      "947/947 [==============================] - 75s 80ms/step - loss: 0.6638\n",
      "Epoch 2/5\n",
      "947/947 [==============================] - 28s 30ms/step - loss: 0.3375\n",
      "Epoch 3/5\n",
      "947/947 [==============================] - 31s 33ms/step - loss: 0.2579\n",
      "Epoch 4/5\n",
      "947/947 [==============================] - 29s 30ms/step - loss: 0.2516\n",
      "Epoch 5/5\n",
      "947/947 [==============================] - 26s 27ms/step - loss: 0.2381\n"
     ]
    },
    {
     "data": {
      "text/plain": [
       "<keras.callbacks.History at 0x2f24601ebc8>"
      ]
     },
     "execution_count": 290,
     "metadata": {},
     "output_type": "execute_result"
    }
   ],
   "source": [
    "regressorGRU_tre = Sequential()\n",
    "regressorGRU_tre.add( GRU( units=450, return_sequences=True, input_shape=(x_train_trend.shape[1],1), activation='tanh', dropout=0.2 ) )\n",
    "regressorGRU_tre.add( GRU( units=450, return_sequences=True, input_shape=(x_train_trend.shape[1],1), activation='tanh', dropout=0.2 ) )\n",
    "regressorGRU_tre.add( GRU( units=450, return_sequences=True, input_shape=(x_train_trend.shape[1],1), activation='tanh', dropout=0.2 ) )\n",
    "\n",
    "#regressorGRU_tre.add( GRU( units=250, return_sequences=True, input_shape=(x_train_trend.shape[1],1), activation='tanh', dropout=0.2 ) )\n",
    "#regressorGRU_tre.add( GRU( units=250, return_sequences=True, input_shape=(x_train_trend.shape[1],1), activation='tanh', dropout=0.2 ) )\n",
    "\n",
    "regressorGRU_tre.add( GRU(units=450, activation='tanh', dropout=0.2 ) )\n",
    "\n",
    "regressorGRU_tre.add(Dense(units=1))\n",
    "\n",
    "regressorGRU_tre.compile(optimizer=SGD(lr=0.01, decay=1e-7, momentum=0.9, nesterov=False),loss='mean_squared_error')\n",
    "\n",
    "regressorGRU_tre.fit(x_train_trend, y_train_trend, epochs=5, batch_size=150)"
   ]
  },
  {
   "cell_type": "code",
   "execution_count": 214,
   "metadata": {},
   "outputs": [
    {
     "data": {
      "text/plain": [
       "60"
      ]
     },
     "execution_count": 214,
     "metadata": {},
     "output_type": "execute_result"
    }
   ],
   "source": [
    "x_train_trend.shape[1]"
   ]
  },
  {
   "cell_type": "code",
   "execution_count": 310,
   "metadata": {},
   "outputs": [
    {
     "data": {
      "image/png": "[encoded data removed]",
      "text/plain": [
       "<Figure size 432x288 with 1 Axes>"
      ]
     },
     "metadata": {
      "needs_background": "light"
     },
     "output_type": "display_data"
    }
   ],
   "source": [
    "trnd_djia_gru_tre = regressorGRU_tre.predict(x_train_trend)\n",
    "trnd_djia_gru_tre = sc_tre.inverse_transform(trnd_djia_gru_tre)\n",
    "y_tr_sc_tre = sc_tre.inverse_transform(y_train_trend.reshape(-1,1))\n",
    "plot_pred( y_tr_sc_tre, trnd_djia_gru_tre )\n",
    "\n",
    "\n",
    "\n",
    "\n"
   ]
  },
  {
   "cell_type": "code",
   "execution_count": 366,
   "metadata": {},
   "outputs": [],
   "source": [
    "#y_tr_sc_tre"
   ]
  },
  {
   "cell_type": "code",
   "execution_count": 365,
   "metadata": {},
   "outputs": [],
   "source": [
    "#trnd_djia_gru_tre"
   ]
  },
  {
   "cell_type": "code",
   "execution_count": 357,
   "metadata": {},
   "outputs": [],
   "source": [
    "\n",
    "dt = data['Close']\n",
    "inp = dt[ len(dt)-len(test_set)-60: ].values\n",
    "inp = inp.reshape(-1,1)\n",
    "\n",
    "time_trend_ext = np.arange(len(inp))*time_ols[1]+time_trend[-60]\n",
    "\n",
    "inp = np.subtract(inp, time_trend_ext.reshape(-1,1))\n",
    "\n",
    "inp = sc_tre.transform(inp)\n",
    "\n",
    "\n",
    "\n"
   ]
  },
  {
   "cell_type": "code",
   "execution_count": 349,
   "metadata": {},
   "outputs": [
    {
     "data": {
      "text/plain": [
       "1007"
      ]
     },
     "execution_count": 349,
     "metadata": {},
     "output_type": "execute_result"
    }
   ],
   "source": [
    "len(dt)-len(test_set)"
   ]
  },
  {
   "cell_type": "code",
   "execution_count": 359,
   "metadata": {},
   "outputs": [
    {
     "data": {
      "image/png": "[encoded data removed]",
      "text/plain": [
       "<Figure size 432x288 with 1 Axes>"
      ]
     },
     "metadata": {
      "needs_background": "light"
     },
     "output_type": "display_data"
    }
   ],
   "source": [
    "x_test = []\n",
    "y_test = []\n",
    "\n",
    "for i in range(60,312):\n",
    "    x_test.append(inp[i-60:i,0])\n",
    "    y_test.append(inp[i,0])\n",
    "x_test = np.array(x_test)\n",
    "x_test = np.reshape(x_test, (x_test.shape[0],x_test.shape[1],1))\n",
    "\n",
    "pred_djia_tt = regressorGRU_tre.predict(x_test)\n",
    "\n",
    "\n",
    "pred_djia_tt = sc_tre.inverse_transform(pred_djia_tt)\n",
    "y_test = sc_tre.inverse_transform(np.array(y_test).reshape(-1,1))\n",
    "\n",
    "y_test = y_test + time_trend_ext.reshape(-1,1)[:-60]\n",
    "pred_djia_tt = pred_djia_tt + time_trend_ext.reshape(-1,1)[:-60]\n",
    "\n",
    "plot_pred(y_test,pred_djia_tt)\n",
    "\n",
    "#plot_pred(dt[ len(dt)-len(test_set): ].values.reshape(-1,1),pred_djia_tt)"
   ]
  }
 ],
 "metadata": {
  "kernelspec": {
   "display_name": "Python 3",
   "language": "python",
   "name": "python3"
  },
  "language_info": {
   "codemirror_mode": {
    "name": "ipython",
    "version": 3
   },
   "file_extension": ".py",
   "mimetype": "text/x-python",
   "name": "python",
   "nbconvert_exporter": "python",
   "pygments_lexer": "ipython3",
   "version": "3.7.4"
  }
 },
 "nbformat": 4,
 "nbformat_minor": 2
}
